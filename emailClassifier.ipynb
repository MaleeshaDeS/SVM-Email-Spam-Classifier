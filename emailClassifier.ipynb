{
  "nbformat": 4,
  "nbformat_minor": 0,
  "metadata": {
    "colab": {
      "provenance": []
    },
    "kernelspec": {
      "name": "python3",
      "display_name": "Python 3"
    },
    "language_info": {
      "name": "python"
    }
  },
  "cells": [
    {
      "cell_type": "markdown",
      "source": [
        "# **1. Developing an SVM Classifier to Classify Emails As Spam/Ham**"
      ],
      "metadata": {
        "id": "YL0gX3BgFIqf"
      }
    },
    {
      "cell_type": "code",
      "source": [
        "import numpy as np\n",
        "import pandas as pd\n",
        "import matplotlib.pyplot as plt\n",
        "from sklearn.feature_extraction.text import CountVectorizer\n",
        "from sklearn import svm\n",
        "from collections import Counter\n",
        "from sklearn.model_selection import train_test_split,cross_val_score\n",
        "from sklearn.metrics import accuracy_score,classification_report,confusion_matrix\n",
        "from imblearn.over_sampling import SMOTE"
      ],
      "metadata": {
        "id": "-PJa3W8jwVIy"
      },
      "execution_count": 1,
      "outputs": []
    },
    {
      "cell_type": "code",
      "execution_count": 2,
      "metadata": {
        "id": "fKe84GTXuvLa",
        "colab": {
          "base_uri": "https://localhost:8080/"
        },
        "outputId": "1aec44a5-816a-4627-be3d-c7e25fda8aa0"
      },
      "outputs": [
        {
          "output_type": "stream",
          "name": "stdout",
          "text": [
            "Mounted at /content/drive\n"
          ]
        }
      ],
      "source": [
        "# connect to Google Drive\n",
        "\n",
        "from google.colab import drive\n",
        "drive.mount('/content/drive')"
      ]
    },
    {
      "cell_type": "code",
      "source": [
        "# move into the folder containing the spam.csv dataset\n",
        "\n",
        "%cd /content/drive/MyDrive/MLOM/Assignment02"
      ],
      "metadata": {
        "id": "-nm2HRsjvf0v",
        "colab": {
          "base_uri": "https://localhost:8080/"
        },
        "outputId": "766c5402-8654-4107-b174-d9ffc5211d73"
      },
      "execution_count": 3,
      "outputs": [
        {
          "output_type": "stream",
          "name": "stdout",
          "text": [
            "/content/drive/MyDrive/MLOM/Assignment02\n"
          ]
        }
      ]
    },
    {
      "cell_type": "code",
      "source": [
        "# import the spam.csv dataset into a dataframe using pandas library\n",
        "\n",
        "data = pd.read_csv('spam.csv')\n",
        "data.head()"
      ],
      "metadata": {
        "id": "PZ7Ml6kivwgy",
        "colab": {
          "base_uri": "https://localhost:8080/",
          "height": 206
        },
        "outputId": "9c247ee9-fff7-49cc-9a49-c5e6248e9cc1"
      },
      "execution_count": 4,
      "outputs": [
        {
          "output_type": "execute_result",
          "data": {
            "text/plain": [
              "  Label                                          EmailText\n",
              "0   ham  Go until jurong point, crazy.. Available only ...\n",
              "1   ham                      Ok lar... Joking wif u oni...\n",
              "2  spam  Free entry in 2 a wkly comp to win FA Cup fina...\n",
              "3   ham  U dun say so early hor... U c already then say...\n",
              "4   ham  Nah I don't think he goes to usf, he lives aro..."
            ],
            "text/html": [
              "\n",
              "  <div id=\"df-f8aa580b-ae56-4af5-8c5c-10f557c99a7c\">\n",
              "    <div class=\"colab-df-container\">\n",
              "      <div>\n",
              "<style scoped>\n",
              "    .dataframe tbody tr th:only-of-type {\n",
              "        vertical-align: middle;\n",
              "    }\n",
              "\n",
              "    .dataframe tbody tr th {\n",
              "        vertical-align: top;\n",
              "    }\n",
              "\n",
              "    .dataframe thead th {\n",
              "        text-align: right;\n",
              "    }\n",
              "</style>\n",
              "<table border=\"1\" class=\"dataframe\">\n",
              "  <thead>\n",
              "    <tr style=\"text-align: right;\">\n",
              "      <th></th>\n",
              "      <th>Label</th>\n",
              "      <th>EmailText</th>\n",
              "    </tr>\n",
              "  </thead>\n",
              "  <tbody>\n",
              "    <tr>\n",
              "      <th>0</th>\n",
              "      <td>ham</td>\n",
              "      <td>Go until jurong point, crazy.. Available only ...</td>\n",
              "    </tr>\n",
              "    <tr>\n",
              "      <th>1</th>\n",
              "      <td>ham</td>\n",
              "      <td>Ok lar... Joking wif u oni...</td>\n",
              "    </tr>\n",
              "    <tr>\n",
              "      <th>2</th>\n",
              "      <td>spam</td>\n",
              "      <td>Free entry in 2 a wkly comp to win FA Cup fina...</td>\n",
              "    </tr>\n",
              "    <tr>\n",
              "      <th>3</th>\n",
              "      <td>ham</td>\n",
              "      <td>U dun say so early hor... U c already then say...</td>\n",
              "    </tr>\n",
              "    <tr>\n",
              "      <th>4</th>\n",
              "      <td>ham</td>\n",
              "      <td>Nah I don't think he goes to usf, he lives aro...</td>\n",
              "    </tr>\n",
              "  </tbody>\n",
              "</table>\n",
              "</div>\n",
              "      <button class=\"colab-df-convert\" onclick=\"convertToInteractive('df-f8aa580b-ae56-4af5-8c5c-10f557c99a7c')\"\n",
              "              title=\"Convert this dataframe to an interactive table.\"\n",
              "              style=\"display:none;\">\n",
              "        \n",
              "  <svg xmlns=\"http://www.w3.org/2000/svg\" height=\"24px\"viewBox=\"0 0 24 24\"\n",
              "       width=\"24px\">\n",
              "    <path d=\"M0 0h24v24H0V0z\" fill=\"none\"/>\n",
              "    <path d=\"M18.56 5.44l.94 2.06.94-2.06 2.06-.94-2.06-.94-.94-2.06-.94 2.06-2.06.94zm-11 1L8.5 8.5l.94-2.06 2.06-.94-2.06-.94L8.5 2.5l-.94 2.06-2.06.94zm10 10l.94 2.06.94-2.06 2.06-.94-2.06-.94-.94-2.06-.94 2.06-2.06.94z\"/><path d=\"M17.41 7.96l-1.37-1.37c-.4-.4-.92-.59-1.43-.59-.52 0-1.04.2-1.43.59L10.3 9.45l-7.72 7.72c-.78.78-.78 2.05 0 2.83L4 21.41c.39.39.9.59 1.41.59.51 0 1.02-.2 1.41-.59l7.78-7.78 2.81-2.81c.8-.78.8-2.07 0-2.86zM5.41 20L4 18.59l7.72-7.72 1.47 1.35L5.41 20z\"/>\n",
              "  </svg>\n",
              "      </button>\n",
              "      \n",
              "  <style>\n",
              "    .colab-df-container {\n",
              "      display:flex;\n",
              "      flex-wrap:wrap;\n",
              "      gap: 12px;\n",
              "    }\n",
              "\n",
              "    .colab-df-convert {\n",
              "      background-color: #E8F0FE;\n",
              "      border: none;\n",
              "      border-radius: 50%;\n",
              "      cursor: pointer;\n",
              "      display: none;\n",
              "      fill: #1967D2;\n",
              "      height: 32px;\n",
              "      padding: 0 0 0 0;\n",
              "      width: 32px;\n",
              "    }\n",
              "\n",
              "    .colab-df-convert:hover {\n",
              "      background-color: #E2EBFA;\n",
              "      box-shadow: 0px 1px 2px rgba(60, 64, 67, 0.3), 0px 1px 3px 1px rgba(60, 64, 67, 0.15);\n",
              "      fill: #174EA6;\n",
              "    }\n",
              "\n",
              "    [theme=dark] .colab-df-convert {\n",
              "      background-color: #3B4455;\n",
              "      fill: #D2E3FC;\n",
              "    }\n",
              "\n",
              "    [theme=dark] .colab-df-convert:hover {\n",
              "      background-color: #434B5C;\n",
              "      box-shadow: 0px 1px 3px 1px rgba(0, 0, 0, 0.15);\n",
              "      filter: drop-shadow(0px 1px 2px rgba(0, 0, 0, 0.3));\n",
              "      fill: #FFFFFF;\n",
              "    }\n",
              "  </style>\n",
              "\n",
              "      <script>\n",
              "        const buttonEl =\n",
              "          document.querySelector('#df-f8aa580b-ae56-4af5-8c5c-10f557c99a7c button.colab-df-convert');\n",
              "        buttonEl.style.display =\n",
              "          google.colab.kernel.accessAllowed ? 'block' : 'none';\n",
              "\n",
              "        async function convertToInteractive(key) {\n",
              "          const element = document.querySelector('#df-f8aa580b-ae56-4af5-8c5c-10f557c99a7c');\n",
              "          const dataTable =\n",
              "            await google.colab.kernel.invokeFunction('convertToInteractive',\n",
              "                                                     [key], {});\n",
              "          if (!dataTable) return;\n",
              "\n",
              "          const docLinkHtml = 'Like what you see? Visit the ' +\n",
              "            '<a target=\"_blank\" href=https://colab.research.google.com/notebooks/data_table.ipynb>data table notebook</a>'\n",
              "            + ' to learn more about interactive tables.';\n",
              "          element.innerHTML = '';\n",
              "          dataTable['output_type'] = 'display_data';\n",
              "          await google.colab.output.renderOutput(dataTable, element);\n",
              "          const docLink = document.createElement('div');\n",
              "          docLink.innerHTML = docLinkHtml;\n",
              "          element.appendChild(docLink);\n",
              "        }\n",
              "      </script>\n",
              "    </div>\n",
              "  </div>\n",
              "  "
            ]
          },
          "metadata": {},
          "execution_count": 4
        }
      ]
    },
    {
      "cell_type": "code",
      "source": [
        "# get a summary of the dataset content\n",
        "\n",
        "data.info()"
      ],
      "metadata": {
        "id": "h47QZ3gQxRir",
        "colab": {
          "base_uri": "https://localhost:8080/"
        },
        "outputId": "48f55f08-963f-418b-a628-6589fbff42e0"
      },
      "execution_count": 5,
      "outputs": [
        {
          "output_type": "stream",
          "name": "stdout",
          "text": [
            "<class 'pandas.core.frame.DataFrame'>\n",
            "RangeIndex: 5572 entries, 0 to 5571\n",
            "Data columns (total 2 columns):\n",
            " #   Column     Non-Null Count  Dtype \n",
            "---  ------     --------------  ----- \n",
            " 0   Label      5572 non-null   object\n",
            " 1   EmailText  5572 non-null   object\n",
            "dtypes: object(2)\n",
            "memory usage: 87.2+ KB\n"
          ]
        }
      ]
    },
    {
      "cell_type": "code",
      "source": [
        "# find the most common words in span and ham emails\n",
        "\n",
        "count1 = Counter(\" \".join(data[data['Label']=='ham'][\"EmailText\"]).split()).most_common(20)\n",
        "df1 = pd.DataFrame.from_dict(count1)\n",
        "df1 = df1.rename(columns={0: \"words in ham\", 1 : \"count\"})\n",
        "count2 = Counter(\" \".join(data[data['Label']=='spam'][\"EmailText\"]).split()).most_common(20)\n",
        "df2 = pd.DataFrame.from_dict(count2)\n",
        "df2 = df2.rename(columns={0: \"words in spam\", 1 : \"count_\"})"
      ],
      "metadata": {
        "id": "_LFYpb6CMqxH"
      },
      "execution_count": 6,
      "outputs": []
    },
    {
      "cell_type": "code",
      "source": [
        "# plot a bar graph depicting the most common words in ham emails\n",
        "\n",
        "df1.plot.bar(legend = False)\n",
        "y_pos = np.arange(len(df1[\"words in ham\"]))\n",
        "plt.xticks(y_pos, df1[\"words in ham\"])\n",
        "plt.title('More frequent words in ham messages')\n",
        "plt.xlabel('words')\n",
        "plt.ylabel('number')\n",
        "plt.show()"
      ],
      "metadata": {
        "id": "53YfP_9eM7JW",
        "colab": {
          "base_uri": "https://localhost:8080/",
          "height": 310
        },
        "outputId": "82aa30bf-af8a-41ae-a159-7b79552a4b5f"
      },
      "execution_count": 7,
      "outputs": [
        {
          "output_type": "display_data",
          "data": {
            "text/plain": [
              "<Figure size 432x288 with 1 Axes>"
            ],
            "image/png": "[encoded data removed]"
          },
          "metadata": {
            "needs_background": "light"
          }
        }
      ]
    },
    {
      "cell_type": "code",
      "source": [
        "# plot a bar graph depicting the most common words in spam emails\n",
        "\n",
        "df2.plot.bar(legend = False, color = 'maroon')\n",
        "y_pos = np.arange(len(df2[\"words in spam\"]))\n",
        "plt.xticks(y_pos, df2[\"words in spam\"])\n",
        "plt.title('More frequent words in spam messages')\n",
        "plt.xlabel('words')\n",
        "plt.ylabel('number')\n",
        "plt.show()"
      ],
      "metadata": {
        "id": "gKpvBMq2Ng9a",
        "colab": {
          "base_uri": "https://localhost:8080/",
          "height": 310
        },
        "outputId": "44bc2a3c-3aaa-45d5-b4f2-4b8c14be3c4c"
      },
      "execution_count": 8,
      "outputs": [
        {
          "output_type": "display_data",
          "data": {
            "text/plain": [
              "<Figure size 432x288 with 1 Axes>"
            ],
            "image/png": "[encoded data removed]"
          },
          "metadata": {
            "needs_background": "light"
          }
        }
      ]
    },
    {
      "cell_type": "code",
      "source": [
        "# target class distribution\n",
        "\n",
        "class_occur = data['Label'].value_counts()\n",
        "class_names = ['spam','ham']\n",
        "fig, ax = plt.subplots()\n",
        "ax.pie(class_occur, labels=class_names, autopct='%1.2f%%',\n",
        "        shadow=True, startangle=0, counterclock=False)\n",
        "ax.axis('equal')  # Equal aspect ratio ensures that pie is drawn as a circle.\n",
        "ax.set_title('Class distribution')\n",
        "plt.show()\n",
        "print(\"No. of samples associated with label spam: {}\".format(class_occur['spam']))\n",
        "print(\"No. samples associated with lable ham: {}\".format(class_occur['ham']))"
      ],
      "metadata": {
        "id": "rwVjYtMg_2TU",
        "colab": {
          "base_uri": "https://localhost:8080/",
          "height": 299
        },
        "outputId": "9298a0a1-6b3b-4ba3-c386-21233e15c696"
      },
      "execution_count": 9,
      "outputs": [
        {
          "output_type": "display_data",
          "data": {
            "text/plain": [
              "<Figure size 432x288 with 1 Axes>"
            ],
            "image/png": "[encoded data removed]"
          },
          "metadata": {}
        },
        {
          "output_type": "stream",
          "name": "stdout",
          "text": [
            "No. of samples associated with label spam: 747\n",
            "No. samples associated with lable ham: 4825\n"
          ]
        }
      ]
    },
    {
      "cell_type": "markdown",
      "source": [
        "***As shown in the above results, there is an imbalance in the target class distribution of the dataset which needs to be handled.***"
      ],
      "metadata": {
        "id": "WGoY8bAmMRlA"
      }
    },
    {
      "cell_type": "code",
      "source": [
        "# split the dataset into independent(EmailText) & dependent(Label) - X being the independent variable and y being the dependent variable\n",
        "\n",
        "X = data['EmailText'].values\n",
        "y = data['Label'].values\n",
        "\n",
        "# print(X)\n",
        "# print(y)"
      ],
      "metadata": {
        "id": "Bk0DkWt8yr6V"
      },
      "execution_count": 10,
      "outputs": []
    },
    {
      "cell_type": "code",
      "source": [
        "# splitting the dataset into training(80%) and testing data(20%)\n",
        "# random state is set to zero to get the same train and test sets across different executions.\n",
        "\n",
        "from sklearn.model_selection import train_test_split\n",
        "X_train, X_test, y_train, y_test = train_test_split( X, y, test_size=0.2, random_state=0)"
      ],
      "metadata": {
        "id": "PHVYIAXrw0lT"
      },
      "execution_count": 11,
      "outputs": []
    },
    {
      "cell_type": "code",
      "source": [
        "# Converting string data into integer values\n",
        "# CountVectorizer is a tool provided by the scikit-learn library to convert a collection of text documents to a matrix of token counts\n",
        "\n",
        "cv = CountVectorizer() \n",
        "X_train = cv.fit_transform(X_train)\n",
        "X_test = cv.transform(X_test)"
      ],
      "metadata": {
        "id": "JEgC4zUuzYQo"
      },
      "execution_count": 12,
      "outputs": []
    },
    {
      "cell_type": "code",
      "source": [
        "# X_train=X_train.toarray()\n",
        "# X_test=X_test.toarray()"
      ],
      "metadata": {
        "id": "fFC6A5LVdJOo"
      },
      "execution_count": 13,
      "outputs": []
    },
    {
      "cell_type": "code",
      "source": [
        "# handling the imbalance in the target class using SMOTE\n",
        "# SMOTE is an oversampling technique that will synthesize new minority instances between existing minority instances to eliminate the target class imbalance\n",
        "\n",
        "x_train = pd.DataFrame(X_train)\n",
        "X_resample, y_resampled = SMOTE().fit_resample(X_train, y_train)"
      ],
      "metadata": {
        "id": "I_5RGFqWdL-v"
      },
      "execution_count": 14,
      "outputs": []
    },
    {
      "cell_type": "code",
      "source": [
        "# fit the Support Vector Classifier for the training data\n",
        "# 'rbf' was selected as the kernal as it is one of the most suitable kernels for binary classifications\n",
        "\n",
        "from sklearn.svm import SVC\n",
        "SVM_classifier = SVC(C=1, kernel = 'rbf', random_state = 0)\n",
        "SVM_classifier.fit(X_resample, y_resampled)"
      ],
      "metadata": {
        "id": "HiToFBkpFAjf",
        "colab": {
          "base_uri": "https://localhost:8080/"
        },
        "outputId": "e28f380e-90fd-445c-d285-7bdf717bff31"
      },
      "execution_count": 15,
      "outputs": [
        {
          "output_type": "execute_result",
          "data": {
            "text/plain": [
              "SVC(C=1, random_state=0)"
            ]
          },
          "metadata": {},
          "execution_count": 15
        }
      ]
    },
    {
      "cell_type": "code",
      "source": [
        "# predict the label value for the testing dataset\n",
        "\n",
        "y_pred=SVM_classifier.predict(X_test)"
      ],
      "metadata": {
        "id": "AeB0IsrNFDB3"
      },
      "execution_count": 16,
      "outputs": []
    },
    {
      "cell_type": "code",
      "source": [
        "# get the testing accuracy by comparing the predicted output with the actual output of the training dataset\n",
        "\n",
        "accuracy_score(y_test,y_pred)"
      ],
      "metadata": {
        "id": "yZ861fG7FGXY",
        "colab": {
          "base_uri": "https://localhost:8080/"
        },
        "outputId": "577c072a-0d4b-42a1-b723-79989c79dd90"
      },
      "execution_count": 17,
      "outputs": [
        {
          "output_type": "execute_result",
          "data": {
            "text/plain": [
              "0.9327354260089686"
            ]
          },
          "metadata": {},
          "execution_count": 17
        }
      ]
    },
    {
      "cell_type": "code",
      "source": [
        "# get the confusion matrix by comparing the predicted output with the actual output of the training dataset\n",
        "\n",
        "confusion_matrix(y_test,y_pred)"
      ],
      "metadata": {
        "id": "mu_jG_waJMD6",
        "colab": {
          "base_uri": "https://localhost:8080/"
        },
        "outputId": "ab6bedee-666e-4310-bc76-311465ea4748"
      },
      "execution_count": 18,
      "outputs": [
        {
          "output_type": "execute_result",
          "data": {
            "text/plain": [
              "array([[900,  49],\n",
              "       [ 26, 140]])"
            ]
          },
          "metadata": {},
          "execution_count": 18
        }
      ]
    },
    {
      "cell_type": "markdown",
      "source": [
        "***Confusion matrix shows that the number of true positives and true negatives are much higher than the number of false positives and false negatives. Therefore we can assume our classifier is good.***\n",
        "\n",
        "![ConfusionMatrix.PNG](data:image/png;base64,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)"
      ],
      "metadata": {
        "id": "P7i0Lsvemfme"
      }
    },
    {
      "cell_type": "code",
      "source": [
        "# print a classification report for the SVM classifier\n",
        "\n",
        "print(classification_report(y_test,y_pred))"
      ],
      "metadata": {
        "id": "bodpI6PwJQcm",
        "colab": {
          "base_uri": "https://localhost:8080/"
        },
        "outputId": "8f35a38d-c5f5-4ef0-9221-b826dcfeeff0"
      },
      "execution_count": 19,
      "outputs": [
        {
          "output_type": "stream",
          "name": "stdout",
          "text": [
            "              precision    recall  f1-score   support\n",
            "\n",
            "         ham       0.97      0.95      0.96       949\n",
            "        spam       0.74      0.84      0.79       166\n",
            "\n",
            "    accuracy                           0.93      1115\n",
            "   macro avg       0.86      0.90      0.87      1115\n",
            "weighted avg       0.94      0.93      0.93      1115\n",
            "\n"
          ]
        }
      ]
    },
    {
      "cell_type": "markdown",
      "source": [
        "\n",
        "\n",
        "---\n",
        "\n"
      ],
      "metadata": {
        "id": "L17-OZNrXlU1"
      }
    },
    {
      "cell_type": "markdown",
      "source": [
        "# **2. Increasing the Accuracy of the Classifier**"
      ],
      "metadata": {
        "id": "zLPwZabRI7__"
      }
    },
    {
      "cell_type": "code",
      "source": [
        "# technique used to increase accuracy - Cross Validation\n",
        "# Cross-validated model building is an excellent method to create machine learning applications with greater accuracy or performance\n",
        "# Additionally the kernal was also changed to 'linear' in order to obtain a better accuracy\n",
        "\n",
        "from sklearn.model_selection import cross_val_score\n",
        "SVM_classifier = svm.SVC(kernel='linear', C=1, random_state=0)\n",
        "SVM_classifier.fit(X_resample, y_resampled)\n",
        "scores = cross_val_score(SVM_classifier, X_resample, y_resampled, cv=5)\n",
        "scores\n",
        "\n",
        "print(np.mean(scores))"
      ],
      "metadata": {
        "id": "XMSOY2IP72Rr",
        "colab": {
          "base_uri": "https://localhost:8080/"
        },
        "outputId": "a9a103f7-2a6c-450a-f0c3-6fb5ba2f0d84"
      },
      "execution_count": 20,
      "outputs": [
        {
          "output_type": "stream",
          "name": "stdout",
          "text": [
            "0.9539513737235084\n"
          ]
        }
      ]
    },
    {
      "cell_type": "markdown",
      "source": [
        "***As shown, the accuracy has increased from approximately 93% to a value above 95% by the techniques used above***"
      ],
      "metadata": {
        "id": "EisaS7QZXHau"
      }
    },
    {
      "cell_type": "markdown",
      "source": [
        "\n",
        "\n",
        "---\n"
      ],
      "metadata": {
        "id": "bUk3GPeLXcXN"
      }
    },
    {
      "cell_type": "markdown",
      "source": [
        "# **3. Predicting Whether the Given Emails are Spam/Ham Using the Trained Model.**"
      ],
      "metadata": {
        "id": "xISkVy9sFBPH"
      }
    },
    {
      "cell_type": "code",
      "source": [
        "# assign the emails into separate variables\n",
        "\n",
        "e1 = ('Hey, you have won a car !!!!. Conrgratzz')\n",
        "e2 = ('Dear applicant, Your CV has been recieved. Best regards')\n",
        "e3 = ('You have received $1000000 to your account')\n",
        "e4 = ('Join with our whatsapp group')\n",
        "e5 = ('Kindly check the previous email. Kind Regards')"
      ],
      "metadata": {
        "id": "6XuwXBKrHC1b"
      },
      "execution_count": 21,
      "outputs": []
    },
    {
      "cell_type": "code",
      "source": [
        "# predict if the above emails are spam/ham\n",
        "# the email text should be passed through CountVectorizer, to be converted into to a matrix of token counts, before using for the prediction\n",
        "# once converted into a matrix of token counts, they can be classified as spam/ham emails by using the above trained model(SVM_classifier)\n",
        "\n",
        "e1 = cv.transform([e1])\n",
        "print('email1: ', SVM_classifier.predict(e1))\n",
        "\n",
        "e2 = cv.transform([e2])\n",
        "print('email2: ', SVM_classifier.predict(e2))\n",
        "\n",
        "e3 = cv.transform([e3])\n",
        "print('email3: ', SVM_classifier.predict(e3))\n",
        "\n",
        "e4 = cv.transform([e4])\n",
        "print('email4: ', SVM_classifier.predict(e4))\n",
        "\n",
        "e5 = cv.transform([e5])\n",
        "print('email5: ', SVM_classifier.predict(e5))"
      ],
      "metadata": {
        "id": "gb9zWd77IRxJ",
        "colab": {
          "base_uri": "https://localhost:8080/"
        },
        "outputId": "ee22460a-ddbb-46b1-f6ac-4af410527630"
      },
      "execution_count": 22,
      "outputs": [
        {
          "output_type": "stream",
          "name": "stdout",
          "text": [
            "email1:  ['spam']\n",
            "email2:  ['ham']\n",
            "email3:  ['spam']\n",
            "email4:  ['spam']\n",
            "email5:  ['ham']\n"
          ]
        }
      ]
    },
    {
      "cell_type": "markdown",
      "source": [
        "***The results obtained from the prediction show that 3/5 of the given emails are spam and 2/5 emails are ham.***\n",
        "\n",
        "\n",
        "![email_predictions.PNG](data:image/png;base64,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)"
      ],
      "metadata": {
        "id": "cjxGeZ6PZ7WC"
      }
    },
    {
      "cell_type": "markdown",
      "source": [
        "\n",
        "\n",
        "---\n",
        "\n"
      ],
      "metadata": {
        "id": "HLF-QQoZXpir"
      }
    }
  ]
}